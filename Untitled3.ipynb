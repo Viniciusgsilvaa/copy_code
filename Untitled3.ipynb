{
  "nbformat": 4,
  "nbformat_minor": 0,
  "metadata": {
    "colab": {
      "name": "Untitled3.ipynb",
      "provenance": [],
      "authorship_tag": "ABX9TyPnUDNXmTtg21Yynb22p8f+",
      "include_colab_link": true
    },
    "kernelspec": {
      "name": "python3",
      "display_name": "Python 3"
    },
    "language_info": {
      "name": "python"
    }
  },
  "cells": [
    {
      "cell_type": "markdown",
      "metadata": {
        "id": "view-in-github",
        "colab_type": "text"
      },
      "source": [
        "<a href=\"https://colab.research.google.com/github/Viniciusgsilvaa/copy_code/blob/master/Untitled3.ipynb\" target=\"_parent\"><img src=\"https://colab.research.google.com/assets/colab-badge.svg\" alt=\"Open In Colab\"/></a>"
      ]
    },
    {
      "cell_type": "code",
      "metadata": {
        "id": "gWRv3GKLNBG-"
      },
      "source": [
        "import socket\n",
        "import threading\n",
        "\n",
        "flag = 0\n",
        "s = socket.socket(socket.AF_INET, socket.SOCK_STREAM)\n",
        "hostname = input('Enter your host:: ')\n",
        "s.connect((hostname, 1023))\n",
        "nickname = input('Enter your Name:: ')\n",
        "\n",
        "def recive():\n",
        "  while True:\n",
        "    try:  \n",
        "      msg = s.recv(1024).decoe('utf-8')\n",
        "      if msg == 'NICK':\n",
        "        print('Welcome to Chat room:: ', nickname)\n",
        "        s.send(bytes(nicname, 'utf-8'))\n",
        "      else:\n",
        "        print(msg)\n",
        "    except:\n",
        "      print('An Error occured ')\n",
        "      s.close()\n",
        "      flag = 1\n",
        "      break\n",
        "\n",
        "def write():\n",
        "  while True:\n",
        "    try:\n",
        "      reply_msg = f'{nicknaem} :: {input()}'\n",
        "      s.send(bytes(reply_msg, 'utf-8'))\n",
        "    except:\n",
        "      print('An Error Occured while sending message!!!')\n",
        "      s.close()\n",
        "      flag = 1\n",
        "      break\n",
        "if flag == 1:\n",
        "  exit()\n",
        "recieve_thrd = threading.Thread(target=recieve)\n",
        "recieve_thrd.start()\n",
        "\n",
        "write_thrd = threading.Tread(target=Write)\n",
        "write_thrd.start()"
      ],
      "execution_count": null,
      "outputs": []
    }
  ]
}