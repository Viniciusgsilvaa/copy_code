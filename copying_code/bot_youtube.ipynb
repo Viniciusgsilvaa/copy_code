{
  "nbformat": 4,
  "nbformat_minor": 0,
  "metadata": {
    "colab": {
      "name": "bot_youtube",
      "provenance": [],
      "authorship_tag": "ABX9TyMlWao+5xeFY3pM1cRuPLms"
    },
    "kernelspec": {
      "name": "python3",
      "display_name": "Python 3"
    },
    "language_info": {
      "name": "python"
    }
  },
  "cells": [
    {
      "cell_type": "markdown",
      "metadata": {
        "id": "P__FnXSabbY3"
      },
      "source": [
        "# Bot\n",
        "\n"
      ]
    },
    {
      "cell_type": "code",
      "metadata": {
        "id": "jtRpJR4fbQIb"
      },
      "source": [
        "import pyoutogui\n",
        "\n",
        "pyautogui.PAUSE = 2\n",
        "\n",
        "pyautogui.press(\"win\")\n",
        "pyautogui.write(\"login.xlsx\")\n",
        "pyautogui.press(\"backspace\")\n",
        "pyautogui.press(\"enter\")\n",
        "\n",
        "pyautogui.clik(x = 500, y = 186)\n",
        "pyautogui.write(\"joao@gmail.com')\n",
        "pyautogui.clik(x = 500, y = 205)\n",
        "pyautogui.write(\"4123\")\n",
        "pyautogui.clik(x = 500, y = 220 )"
      ],
      "execution_count": null,
      "outputs": []
    },
    {
      "cell_type": "code",
      "metadata": {
        "id": "RzcezaNokmX1"
      },
      "source": [
        "import time\n",
        "\n",
        "time.sleep(3)\n",
        "pyautogui.position()"
      ],
      "execution_count": null,
      "outputs": []
    }
  ]
}